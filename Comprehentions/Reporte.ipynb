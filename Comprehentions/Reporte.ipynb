{
 "cells": [
  {
   "cell_type": "markdown",
   "metadata": {},
   "source": [
    "# Comprehensions Practica\n",
    "\n",
    "1. Buscar un conjunto de datos en formato .csv\n",
    "2. Analizar los datos y definir\n",
    "\n",
    "   - 5 list comprenhensions\n",
    "   - 5 dictionary comprenhensions\n",
    "   - 5 set comprenhensions\n",
    "   - 5 operaciones sobre conjuntos\n",
    "\n",
    "   <b>Nota: Se debe redactar la descripción de cada uno</b>\n",
    "\n",
    "3. Enregar reporte (incluir carátula) con las descripciones y soluciones en formato pdf de manera individual (puede ser el mismo documento para todo el equipo).\n"
   ]
  },
  {
   "cell_type": "markdown",
   "metadata": {},
   "source": [
    "# Datos a analizar"
   ]
  },
  {
   "cell_type": "markdown",
   "metadata": {},
   "source": [
    "### List Comprehensions\n",
    "\n",
    "1. Crear una lista de diccionarios con todos los registros y datos del csv\n",
    "2. Crear una lista de tuplas con todos los registros y columnas `Country` y `Rank By Total`\n",
    "3. Crear una lista de tuplas que contenga `Country` y `Total` donde el total de medallas sea > 40\n",
    "4. Crear una lista de tuplas que contenga `Country` y `Total` donde el total de medallas sea <= 20\n",
    "5. Crear una lista de diccionarios de todos los registros hayan ganado las 3 medallas"
   ]
  },
  {
   "cell_type": "markdown",
   "metadata": {},
   "source": [
    "### Dictionary Comprehensions\n",
    "\n",
    "Donde la clave de cada diccionario sea el nombre del país:\n",
    "1. Crear un diccionario con diccionarios todos los registros del csv excepto que los registro `Gold Medal`,`Silver Medal`,`Bronce Medal` estaran en un atributo (Lista) del diccionario llamado `Medals` \n",
    "2. Crear un diccionario de diccionarios con todos los registros del csv donde el total de medallas sea < 10\n",
    "3. Crear un diccionario de diccionarios con todos los registros y datos del csv\n",
    "4. Crear un diccionario de diccionarios con todos los registros donde contenga minimo una medalla de oro\n",
    "5. Crear un diccionario de diccionarios con todos los registros donde tenga minimo una medalla de plata"
   ]
  },
  {
   "cell_type": "markdown",
   "metadata": {},
   "source": [
    "### Set Comprehensions\n",
    "\n",
    "1. Crear un conjunto de todos los registros donde sus elementos esten formados por una tupla (`Country`,`Gold Medal`) donde tenga minimo una medalla de oro\n",
    "2. Crear un conjunto de todos los registros donde sus elementos esten formados por una tupla (`Country`,`Silver Medal`) donde tenga minimo una medalla de plata\n",
    "3. Crear un conjunto de todos los registros donde sus elementos esten formados por una tupla (`Country`,`Bronce Medal`) donde tenga minimo una medalla de bronce\n",
    "4. Crear un conjunto de todos los registros donde sus elementos esten formados por una tupla (`Country`,`Total`) \n",
    "5. Crera un conjunto de todos los registros donde sus elementos esten formados por una tupla (`Country`,`Rank Total`) "
   ]
  },
  {
   "cell_type": "markdown",
   "metadata": {},
   "source": [
    "### Operaciones de Conjuntos\n",
    "\n",
    "1. Mediante operacion de conjuntos obtener que paises tienen de los 3 tipos de medallas \n",
    "2. Mediante operacion de conjuntos obtener que paises no tienen medallas de oro pero si tienen de plata y bronce\n",
    "3. Mediante operacion de conjuntos obtener que paises no tienen medallas de plata pero si tienen de plata y bronce\n",
    "4. Mediante operacion de conjuntos obtener que paises se encuentran en el ejercicio 3 de set comprehensions pero no en el conjunto 2\n",
    "5. Mediante operacion de conjuntos obtener que paises se encuentran en el ejercicio 2 de set comprehensions pero no en el conjunto 3\n"
   ]
  },
  {
   "cell_type": "code",
   "execution_count": null,
   "metadata": {},
   "outputs": [],
   "source": [
    "import csv\n",
    "import pprint\n",
    "\n",
    "def read_csv():\n",
    "    with open('./tokyo_medals_2021.csv') as csvfile:\n",
    "        reader = csv.reader(csvfile, delimiter=',')\n",
    "        header = next(reader)\n",
    "        data = []\n",
    "\n",
    "        for row in reader:\n",
    "\n",
    "            iterable = zip(header, row)\n",
    "\n",
    "            country = {key: value for key, value in iterable}\n",
    "            data.append(country)\n",
    "    return data\n",
    "\n"
   ]
  },
  {
   "cell_type": "markdown",
   "metadata": {},
   "source": [
    "# List Comprehensions\n",
    "\n",
    "1. Crear una lista de diccionarios con todos los registros y datos del csv"
   ]
  },
  {
   "cell_type": "code",
   "execution_count": null,
   "metadata": {},
   "outputs": [],
   "source": [
    "data_csv = read_csv()\n",
    "pp = pprint.PrettyPrinter(indent=4)\n",
    "\n",
    "all_values = [element for element in data_csv]\n",
    "pp.pprint(all_values)"
   ]
  },
  {
   "cell_type": "markdown",
   "metadata": {},
   "source": [
    "2. Crear una lista de tuplas con todos los registros y columnas `Country` y `Rank By Total`"
   ]
  },
  {
   "cell_type": "code",
   "execution_count": null,
   "metadata": {},
   "outputs": [],
   "source": [
    "list_tuples_country = [(element['Country'], element['Rank By Total']) for element in data_csv]\n",
    "\n",
    "pp.pprint(list_tuples_country)"
   ]
  },
  {
   "cell_type": "markdown",
   "metadata": {},
   "source": [
    "3. Crear una lista de tuplas que contenga `Country` y `Total` donde el total de medallas sea > 40\n"
   ]
  },
  {
   "cell_type": "code",
   "execution_count": null,
   "metadata": {},
   "outputs": [],
   "source": [
    "list_tuples_medals_major = [(element[\"Country\"], element[\"Total\"]) for element in data_csv if int(element[\"Total\"]) > 40]\n",
    "\n",
    "pp.pprint(list_tuples_medals_major)"
   ]
  },
  {
   "cell_type": "markdown",
   "metadata": {},
   "source": [
    "4. Crear una lista de tuplas que contenga `Country` y `Total` donde el total de medallas sea <= 20"
   ]
  },
  {
   "cell_type": "code",
   "execution_count": null,
   "metadata": {},
   "outputs": [],
   "source": [
    "list_tuples_medals_minor = [(element[\"Country\"], element[\"Total\"]) for element in data_csv if int(element[\"Total\"]) <= 20]\n",
    "\n",
    "pp.pprint(list_tuples_medals_minor)"
   ]
  },
  {
   "cell_type": "markdown",
   "metadata": {},
   "source": [
    "5. Crear una lista de diccionarios de todos los registros hayan ganado las 3 medallas\n"
   ]
  },
  {
   "cell_type": "code",
   "execution_count": null,
   "metadata": {},
   "outputs": [],
   "source": [
    "list_dict_all_type_medals = [element for element in data_csv if int(element[\"Bronze Medal\"]) >= 1 and int(element[\"Silver Medal\"]) >= 1 and int(element[\"Gold Medal\"]) >= 1]\n",
    "\n",
    "pp.pprint(list_dict_all_type_medals)"
   ]
  },
  {
   "cell_type": "markdown",
   "metadata": {},
   "source": [
    "# Dictionary Comprehensions\n",
    "\n",
    "Donde la clave de cada diccionario sea el nombre del país:\n",
    "1. Crear un diccionario con diccionarios todos los registros del csv excepto que los registro `Gold Medal`,`Silver Medal`,`Bronce Medal` estaran en un atributo (Lista) del diccionario llamado `Medals` "
   ]
  },
  {
   "cell_type": "code",
   "execution_count": null,
   "metadata": {},
   "outputs": [],
   "source": [
    "medallas = {i['Country']:{'Medals':[i['Gold Medal'], i['Silver Medal'], i['Bronze Medal']],'Total':i['Total'], 'Rank By Total':i['Rank By Total']} for i in data_csv}\n",
    "\n",
    "pp.pprint(medallas)"
   ]
  },
  {
   "cell_type": "markdown",
   "metadata": {},
   "source": [
    "2. Crear un diccionario de diccionarios con todos los registros del csv donde el total de medallas sea < 10\n"
   ]
  },
  {
   "cell_type": "code",
   "execution_count": null,
   "metadata": {},
   "outputs": [],
   "source": [
    "ganadores = {i['Country']:i for i in data_csv if int(i['Total']) < 10}\n",
    "\n",
    "pp.pprint(ganadores)"
   ]
  },
  {
   "cell_type": "markdown",
   "metadata": {},
   "source": [
    "3. Crear un diccionario de diccionarios con todos los registros y datos del csv\n"
   ]
  },
  {
   "cell_type": "code",
   "execution_count": null,
   "metadata": {},
   "outputs": [],
   "source": [
    "todos = {i['Country']: i for i in data_csv}\n",
    "\n",
    "pp.pprint(todos)"
   ]
  },
  {
   "cell_type": "markdown",
   "metadata": {},
   "source": [
    "4. Crear un diccionario de diccionarios con todos los registros donde **contenga minimo una medalla de oro**\n"
   ]
  },
  {
   "cell_type": "code",
   "execution_count": null,
   "metadata": {},
   "outputs": [],
   "source": [
    "oros = {i['Country']: i for i in data_csv if int(i['Gold Medal']) >= 1}\n",
    "\n",
    "pp.pprint(oros)"
   ]
  },
  {
   "cell_type": "markdown",
   "metadata": {},
   "source": [
    "5. Crear un diccionario de diccionarios con todos los registros donde **tenga minimo una medalla de plata**\n"
   ]
  },
  {
   "cell_type": "code",
   "execution_count": null,
   "metadata": {},
   "outputs": [],
   "source": [
    "platas = {i['Country']: i for i in data_csv if int(i['Silver Medal']) >= 1}\n",
    "\n",
    "pp.pprint(platas)"
   ]
  },
  {
   "cell_type": "markdown",
   "metadata": {},
   "source": [
    "# Sets Comprehensions\n",
    "\n",
    "1. Crear un conjunto de todos los registros donde sus elementos esten formados por una tupla (`Country`,`Gold Medal`) donde tenga minimo una medalla de oro\n"
   ]
  },
  {
   "cell_type": "code",
   "execution_count": null,
   "metadata": {},
   "outputs": [],
   "source": [
    "gold_medals = {(i['Country']) for i in data_csv if int(i['Gold Medal'])>0}\n",
    "\n",
    "pp.pprint(gold_medals)\n"
   ]
  },
  {
   "cell_type": "markdown",
   "metadata": {},
   "source": [
    "2. Crear un conjunto de todos los registros donde sus elementos esten formados por una tupla (`Country`) donde tenga minimo una medalla de plata\n"
   ]
  },
  {
   "cell_type": "code",
   "execution_count": null,
   "metadata": {},
   "outputs": [],
   "source": [
    "silver = {(i['Country']) for i in data_csv if int(i['Silver Medal'])>0}\n",
    "\n",
    "pp.pprint(silver)\n"
   ]
  },
  {
   "cell_type": "markdown",
   "metadata": {},
   "source": [
    "3. Crear un conjunto de todos los registros donde sus elementos esten formados por una tupla (`Country`) donde tenga minimo una medalla de bronce\n"
   ]
  },
  {
   "cell_type": "code",
   "execution_count": null,
   "metadata": {},
   "outputs": [],
   "source": [
    "bronce = {(i['Country']) for i in data_csv if int(i['Bronze Medal'])>0}"
   ]
  },
  {
   "cell_type": "markdown",
   "metadata": {},
   "source": [
    "4. Crear un conjunto de todos los registros donde sus elementos esten formados por una tupla (`Country`,`Total`) "
   ]
  },
  {
   "cell_type": "code",
   "execution_count": null,
   "metadata": {},
   "outputs": [],
   "source": [
    "\n",
    "total = {(i['Country'],i['Total']) for i in data_csv}\n",
    "\n",
    "pp.pprint(total)"
   ]
  },
  {
   "cell_type": "markdown",
   "metadata": {},
   "source": [
    "5. Crera un conjunto de todos los registros donde sus elementos esten formados por una tupla (`Country`,`Rank Total`) \n"
   ]
  },
  {
   "cell_type": "code",
   "execution_count": null,
   "metadata": {},
   "outputs": [],
   "source": [
    "\n",
    "triple = {(i['Country'],'Triple ganador') for i in data_csv if int(i['Bronze Medal'])>0 and int(i['Gold Medal'])>0 and int(i['Silver Medal'])>0}\n",
    "\n",
    "pp.pprint(triple)"
   ]
  },
  {
   "cell_type": "markdown",
   "metadata": {},
   "source": [
    "# Operaciones de Conjuntos\n",
    "\n",
    "1. Mediante operacion de conjuntos obtener que paises tienen de los 3 tipos de medallas "
   ]
  },
  {
   "cell_type": "code",
   "execution_count": null,
   "metadata": {},
   "outputs": [],
   "source": [
    "pp.pprint(gold_medals.intersection(silver,bronce))"
   ]
  },
  {
   "cell_type": "markdown",
   "metadata": {},
   "source": [
    "2. Mediante operacion de conjuntos obtener que paises no tienen medallas de oro pero si tienen de plata y bronce"
   ]
  },
  {
   "cell_type": "code",
   "execution_count": null,
   "metadata": {},
   "outputs": [],
   "source": [
    "set_medals_without_gold = silver.intersection(bronce)\n",
    "set_medals_without_gold.difference_update(gold_medals)\n",
    "\n",
    "pp.pprint(set_medals_without_gold)"
   ]
  },
  {
   "cell_type": "markdown",
   "metadata": {},
   "source": [
    "3. Mediante operacion de conjuntos obtener que paises no tienen medallas de oro ni de plata pero si de bronce"
   ]
  },
  {
   "cell_type": "code",
   "execution_count": null,
   "metadata": {},
   "outputs": [],
   "source": [
    "set_aux = bronce.difference(silver,gold_medals)\n",
    "\n",
    "pp.pprint(set_aux)"
   ]
  },
  {
   "cell_type": "markdown",
   "metadata": {},
   "source": [
    "4. Mediante operacion de conjuntos obtener que paises se encuentran en el ejercicio 3 de set comprehensions pero no en el conjunto 2"
   ]
  },
  {
   "cell_type": "code",
   "execution_count": null,
   "metadata": {},
   "outputs": [],
   "source": [
    "pp.pprint(bronce.difference(silver))"
   ]
  },
  {
   "cell_type": "markdown",
   "metadata": {},
   "source": [
    "5. Mediante operacion de conjuntos obtener que paises se encuentran en el ejercicio 2 de set comprehensions pero no en el conjunto 3\n"
   ]
  },
  {
   "cell_type": "code",
   "execution_count": null,
   "metadata": {},
   "outputs": [],
   "source": [
    "pp.pprint(silver.difference(bronce))"
   ]
  }
 ],
 "metadata": {
  "kernelspec": {
   "display_name": "Python 3.11.0 64-bit",
   "language": "python",
   "name": "python3"
  },
  "language_info": {
   "codemirror_mode": {
    "name": "ipython",
    "version": 3
   },
   "file_extension": ".py",
   "mimetype": "text/x-python",
   "name": "python",
   "nbconvert_exporter": "python",
   "pygments_lexer": "ipython3",
   "version": "3.11.0"
  },
  "orig_nbformat": 4,
  "vscode": {
   "interpreter": {
    "hash": "4e805ed34e66e216dd9aeae91b675b5e0b912dd01f6c33d267622bb24367e05b"
   }
  }
 },
 "nbformat": 4,
 "nbformat_minor": 2
}
